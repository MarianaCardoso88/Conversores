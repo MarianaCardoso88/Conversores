{
 "cells": [
  {
   "cell_type": "code",
   "execution_count": 1,
   "metadata": {},
   "outputs": [
    {
     "name": "stdout",
     "output_type": "stream",
     "text": [
      "Arquivo de logs de operações antigas apagados\n",
      "Linhas removidas com sucesso!\n",
      "Conversão de TXT para Excel concluída.\n",
      "Remoção de colunas concluída.\n",
      "Transposição concluída.\n",
      "Organização dos códigos dos exames concluída.\n"
     ]
    }
   ],
   "source": [
    "import os\n",
    "import file_processing\n",
    "import excel_utils\n",
    "import txt_utils\n",
    "\n",
    "def clean_logs():\n",
    "    directory_path = \"./logs\"\n",
    "    # Listando todos os arquivos no diretório\n",
    "    for filename in os.listdir(directory_path):\n",
    "        file_path = os.path.join(directory_path, filename)\n",
    "        # Verificando se é um arquivo (e não um diretório)\n",
    "        if os.path.isfile(file_path):\n",
    "            os.remove(file_path)  # Apaga o arquivo\n",
    "    print(f\"Arquivo de logs de operações antigas apagados\")\n",
    "\n",
    "\n",
    "if __name__ == \"__main__\":\n",
    "    clean_logs()\n",
    "\n",
    "    # Criar script para logar arquivos com mais de um exame antes de passar pro excel\n",
    "    # Criar script para identificar arquivos com biomarcadores com mesmos nomes, mas obtidos de formas diferentes\n",
    "    # Criar script para alterar nomes de marcadores \n",
    "\n",
    "    # Solicita os caminhos das pastas de entrada\n",
    "    input_path_dados_brutos = input(\"Digite o caminho raiz dos arquivos txt organizados por dia: \")\n",
    "    \n",
    "    # Apenas converte os arquivos txt para UTF-8\n",
    "    output_txt_utf8 = input(\"Digite o caminho para os TXTs em utf8: \")\n",
    "    file_processing.process_files(input_path_dados_brutos, output_txt_utf8, txt_utils.convert_to_utf8)\n",
    "\n",
    "    # Remove linhas baseadas em keywords dos arquivos em txt\n",
    "    output_txt_sem_linhas_inuteis = input(\"Digite o caminho para os TXTs sem linhas inúteis: \")\n",
    "    file_processing.process_files(input_path_dados_brutos, output_txt_sem_linhas_inuteis, txt_utils.remove_lines_with_keywords)\n",
    "    print(\"Linhas removidas com sucesso!\")\n",
    "\n",
    "    # Converte arquivos de TXT para Excel\n",
    "    input_path_dados_brutos_tratados = output_txt_sem_linhas_inuteis\n",
    "    output_path_arquivos_excel = input(\"Digite o caminho da pasta de saída para os arquivos Excel não tratados: \")\n",
    "    file_processing.txt_to_excel(input_path_dados_brutos_tratados, output_path_arquivos_excel)\n",
    "    print(\"Conversão de TXT para Excel concluída.\")\n",
    "\n",
    "    # Removendo colunas dos arquivos Excel\n",
    "    input_path_arquivos_excel = output_path_arquivos_excel\n",
    "    output_path_arquivos_sem_colunas = input(\"Digite o caminho da pasta de saída para os arquivos Excel sem as colunas: \")\n",
    "    file_processing.process_files(input_path_arquivos_excel, output_path_arquivos_sem_colunas, excel_utils.remove_colunas_arquivo)\n",
    "    print(\"Remoção de colunas concluída.\")\n",
    "\n",
    "    # Transpondo arquivos Excel e identificando arquivos com mais de um exame\n",
    "    input_path_arquivos_sem_colunas = output_path_arquivos_sem_colunas\n",
    "    output_path_arquivos_transpostos = input(\"Digite o caminho da pasta de saída para os arquivos Excel transpostos: \")\n",
    "    file_processing.process_files(input_path_arquivos_sem_colunas, output_path_arquivos_transpostos, excel_utils.transpose_exam)\n",
    "    print(\"Transposição concluída.\")\n",
    "\n",
    "    # Organizando os códigos dos exames\n",
    "    input_path_arquivos_arquivos_transpostos = output_path_arquivos_transpostos\n",
    "    output_path_arquivos_organizados = input(\"Digite o caminho da pasta de saída para os arquivos Excel com os códigos organizados: \")\n",
    "    file_processing.process_files(input_path_arquivos_arquivos_transpostos, output_path_arquivos_organizados, excel_utils.organize_exams)\n",
    "    print(\"Organização dos códigos dos exames concluída.\")\n",
    "    "
   ]
  }
 ],
 "metadata": {
  "kernelspec": {
   "display_name": "Jupyter",
   "language": "python",
   "name": "python3"
  },
  "language_info": {
   "codemirror_mode": {
    "name": "ipython",
    "version": 3
   },
   "file_extension": ".py",
   "mimetype": "text/x-python",
   "name": "python",
   "nbconvert_exporter": "python",
   "pygments_lexer": "ipython3",
   "version": "3.12.4"
  }
 },
 "nbformat": 4,
 "nbformat_minor": 2
}
