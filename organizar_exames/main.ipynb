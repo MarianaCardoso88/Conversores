{
 "cells": [
  {
   "cell_type": "code",
   "execution_count": 1,
   "metadata": {},
   "outputs": [
    {
     "name": "stdout",
     "output_type": "stream",
     "text": [
      "Arquivo de logs de operações antigas apagados\n"
     ]
    },
    {
     "ename": "PermissionError",
     "evalue": "[Errno 13] Permission denied: '/1.TXTs_utf-8'",
     "output_type": "error",
     "traceback": [
      "\u001b[0;31m---------------------------------------------------------------------------\u001b[0m",
      "\u001b[0;31mPermissionError\u001b[0m                           Traceback (most recent call last)",
      "Cell \u001b[0;32mIn[1], line 29\u001b[0m\n\u001b[1;32m     27\u001b[0m input_path_dados_brutos \u001b[38;5;241m=\u001b[39m input_path_raiz_dados \u001b[38;5;241m+\u001b[39m \u001b[38;5;124m\"\u001b[39m\u001b[38;5;124m/0.brutos\u001b[39m\u001b[38;5;124m\"\u001b[39m\n\u001b[1;32m     28\u001b[0m output_txt_utf8 \u001b[38;5;241m=\u001b[39m input_path_raiz_dados \u001b[38;5;241m+\u001b[39m \u001b[38;5;124m\"\u001b[39m\u001b[38;5;124m/1.TXTs_utf-8\u001b[39m\u001b[38;5;124m\"\u001b[39m\n\u001b[0;32m---> 29\u001b[0m file_processing\u001b[38;5;241m.\u001b[39mprocess_files(input_path_dados_brutos, output_txt_utf8, txt_utils\u001b[38;5;241m.\u001b[39mconvert_to_utf8)\n\u001b[1;32m     30\u001b[0m \u001b[38;5;28mprint\u001b[39m(\u001b[38;5;124m\"\u001b[39m\u001b[38;5;124mTXTs convertidos para UTF-8\u001b[39m\u001b[38;5;124m\"\u001b[39m)\n\u001b[1;32m     32\u001b[0m \u001b[38;5;66;03m# Tratar Gasometrias e tipo de sangue venoso e arterial\u001b[39;00m\n",
      "File \u001b[0;32m~/labs/work/Conversores/organizar_exames/file_processing.py:69\u001b[0m, in \u001b[0;36mprocess_files\u001b[0;34m(input_dir, output_dir, func)\u001b[0m\n\u001b[1;32m     67\u001b[0m \u001b[38;5;66;03m# Verifica se a pasta de saída existe, senão, cria a pasta\u001b[39;00m\n\u001b[1;32m     68\u001b[0m \u001b[38;5;28;01mif\u001b[39;00m \u001b[38;5;129;01mnot\u001b[39;00m os\u001b[38;5;241m.\u001b[39mpath\u001b[38;5;241m.\u001b[39mexists(output_dir):\n\u001b[0;32m---> 69\u001b[0m     os\u001b[38;5;241m.\u001b[39mmakedirs(output_dir)\n\u001b[1;32m     71\u001b[0m \u001b[38;5;66;03m# Percorre todos os arquivos e subdiretórios na pasta de entrada\u001b[39;00m\n\u001b[1;32m     72\u001b[0m \u001b[38;5;28;01mfor\u001b[39;00m root, dirs, files \u001b[38;5;129;01min\u001b[39;00m os\u001b[38;5;241m.\u001b[39mwalk(input_dir):\n",
      "File \u001b[0;32m<frozen os>:225\u001b[0m, in \u001b[0;36mmakedirs\u001b[0;34m(name, mode, exist_ok)\u001b[0m\n",
      "\u001b[0;31mPermissionError\u001b[0m: [Errno 13] Permission denied: '/1.TXTs_utf-8'"
     ]
    }
   ],
   "source": [
    "import os\n",
    "import file_processing\n",
    "import excel_utils\n",
    "import txt_utils\n",
    "\n",
    "def clean_logs():\n",
    "    directory_path = \"./logs\"\n",
    "    # Listando todos os arquivos no diretório\n",
    "    for filename in os.listdir(directory_path):\n",
    "        file_path = os.path.join(directory_path, filename)\n",
    "        # Verificando se é um arquivo (e não um diretório)\n",
    "        if os.path.isfile(file_path):\n",
    "            os.remove(file_path)  # Apaga o arquivo\n",
    "    print(f\"Arquivo de logs de operações antigas apagados\")\n",
    "\n",
    "\n",
    "if __name__ == \"__main__\":\n",
    "    clean_logs()\n",
    "\n",
    "    # Criar script para logar arquivos com mais de um exame antes de passar pro excel\n",
    "    # Criar script para identificar arquivos com biomarcadores com mesmos nomes, mas obtidos de formas diferentes\n",
    "\n",
    "    # Solicita o caminho raiz das pastas de entrada\n",
    "    input_path_raiz_dados = input(\"Digite o caminho raiz que possue a pasta dos TXTs organizados por dia: \")\n",
    "    \n",
    "    # Converte os arquivos TXT da ISO-8859-1 para UTF-8\n",
    "    input_path_dados_brutos = input_path_raiz_dados + \"/0.brutos\"\n",
    "    output_txt_utf8 = input_path_raiz_dados + \"/1.TXTs_utf-8\"\n",
    "    file_processing.process_files(input_path_dados_brutos, output_txt_utf8, txt_utils.convert_to_utf8)\n",
    "    print(\"TXTs convertidos para UTF-8\")\n",
    "\n",
    "    # Tratar Gasometrias e tipo de sangue venoso e arterial\n",
    "    output_gasometrias_tratadas = input_path_raiz_dados + \"/2.TXTs_gasometrias_tratadas\"\n",
    "    file_processing.process_files(output_txt_utf8, output_gasometrias_tratadas, txt_utils.changing_gasometrias_exams_strings)\n",
    "    print(\"Gasometrias tratadas\")\n",
    "\n",
    "    # Remove linhas baseadas em keywords dos arquivos em txt\n",
    "    output_txt_sem_linhas_inuteis = input_path_raiz_dados + \"/3.TXTs_sem_linhas_inuteis\"\n",
    "    file_processing.process_files(output_gasometrias_tratadas, output_txt_sem_linhas_inuteis, txt_utils.remove_lines_with_keywords)\n",
    "    print(\"Linhas removidas\")\n",
    "\n",
    "    # Converte arquivos de TXT para Excel\n",
    "    output_path_arquivos_excel = input_path_raiz_dados + \"/4.excel\"\n",
    "    file_processing.txt_to_excel(output_txt_sem_linhas_inuteis, output_path_arquivos_excel)\n",
    "    print(\"Conversão de TXT para Excel concluída.\")\n",
    "\n",
    "    # Organizando os códigos dos exames\n",
    "    output_path_arquivos_organizados = input_path_raiz_dados + \"/5.excel_organizados\"\n",
    "    file_processing.process_files(output_path_arquivos_excel, output_path_arquivos_organizados, excel_utils.organize_exams)\n",
    "    print(\"Organização dos códigos dos exames concluída.\")\n",
    "    "
   ]
  }
 ],
 "metadata": {
  "kernelspec": {
   "display_name": "Jupyter",
   "language": "python",
   "name": "python3"
  },
  "language_info": {
   "codemirror_mode": {
    "name": "ipython",
    "version": 3
   },
   "file_extension": ".py",
   "mimetype": "text/x-python",
   "name": "python",
   "nbconvert_exporter": "python",
   "pygments_lexer": "ipython3",
   "version": "3.12.4"
  }
 },
 "nbformat": 4,
 "nbformat_minor": 2
}
