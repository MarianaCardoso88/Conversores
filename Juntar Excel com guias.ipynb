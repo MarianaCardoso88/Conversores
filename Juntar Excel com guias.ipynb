{
 "cells": [
  {
   "cell_type": "code",
   "execution_count": 1,
   "id": "594c41f1",
   "metadata": {},
   "outputs": [
    {
     "name": "stdout",
     "output_type": "stream",
     "text": [
      "Todos os arquivos foram combinados em ../Puros\\arquivo_combinado.xlsx\n"
     ]
    }
   ],
   "source": [
    "import os\n",
    "import pandas as pd\n",
    "\n",
    "def combine_excel_files(folder_path):\n",
    "    # Nome do arquivo de saída\n",
    "    output_file = os.path.join(folder_path, 'arquivo_combinado.xlsx')\n",
    "\n",
    "    # Cria um objeto ExcelWriter\n",
    "    with pd.ExcelWriter(output_file, engine='openpyxl') as writer:\n",
    "        has_sheets = False  # Adiciona um flag para checar se há folhas visíveis\n",
    "        # Percorre todos os arquivos na pasta\n",
    "        for filename in os.listdir(folder_path):\n",
    "            if filename.endswith('.xlsx') and filename != 'arquivo_combinado.xlsx':\n",
    "                file_path = os.path.join(folder_path, filename)\n",
    "                sheet_name = os.path.splitext(filename)[0]  # Usa o nome do arquivo como nome da aba\n",
    "\n",
    "                # Lê o arquivo Excel\n",
    "                df = pd.read_excel(file_path)\n",
    "\n",
    "                # Escreve o DataFrame no arquivo de saída, em uma nova aba\n",
    "                df.to_excel(writer, sheet_name=sheet_name, index=False)\n",
    "                has_sheets = True\n",
    "\n",
    "        # Adiciona uma folha visível se não houver nenhuma\n",
    "        if not has_sheets:\n",
    "            pd.DataFrame().to_excel(writer, sheet_name='Sheet1')\n",
    "\n",
    "    print(f\"Todos os arquivos foram combinados em {output_file}\")\n",
    "\n",
    "# Caminho para a pasta contendo os arquivos .xlsx\n",
    "folder_path = '../Puros'\n",
    "\n",
    "# Chama a função para combinar os arquivos\n",
    "combine_excel_files(folder_path)\n"
   ]
  },
  {
   "cell_type": "code",
   "execution_count": null,
   "id": "dde40868",
   "metadata": {},
   "outputs": [],
   "source": []
  }
 ],
 "metadata": {
  "kernelspec": {
   "display_name": "Python 3 (ipykernel)",
   "language": "python",
   "name": "python3"
  },
  "language_info": {
   "codemirror_mode": {
    "name": "ipython",
    "version": 3
   },
   "file_extension": ".py",
   "mimetype": "text/x-python",
   "name": "python",
   "nbconvert_exporter": "python",
   "pygments_lexer": "ipython3",
   "version": "3.9.13"
  }
 },
 "nbformat": 4,
 "nbformat_minor": 5
}
