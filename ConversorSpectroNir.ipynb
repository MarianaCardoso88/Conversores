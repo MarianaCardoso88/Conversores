{
 "cells": [
  {
   "cell_type": "code",
   "execution_count": 5,
   "id": "14c7a96c",
   "metadata": {},
   "outputs": [],
   "source": [
    "import os\n",
    "\n",
    "# caminho para a pasta com os arquivos\n",
    "pasta = 'Dados Brutos'\n",
    "\n",
    "# obter a lista de arquivos na pasta\n",
    "arquivos = os.listdir(pasta)\n",
    "\n",
    "# filtrar a lista para excluir os arquivos sem '_a' no nome\n",
    "arquivos_para_excluir = [arquivo for arquivo in arquivos if '_a' not in arquivo]\n",
    "\n",
    "# excluir os arquivos selecionados\n",
    "for arquivo in arquivos_para_excluir:\n",
    "    caminho_arquivo = os.path.join(pasta, arquivo)\n",
    "    os.remove(caminho_arquivo)\n"
   ]
  },
  {
   "cell_type": "code",
   "execution_count": 6,
   "id": "aac95366",
   "metadata": {},
   "outputs": [],
   "source": [
    "import os\n",
    "import csv\n",
    "\n",
    "# diretório contendo os arquivos csv\n",
    "dir_path = 'Dados Brutos'\n",
    "\n",
    "# lista para armazenar os dados de cada arquivo\n",
    "data = []\n",
    "\n",
    "# loop para percorrer cada arquivo na pasta\n",
    "for file_name in os.listdir(dir_path):\n",
    "    if file_name.endswith('.csv'):\n",
    "        # abre o arquivo e lê seus dados\n",
    "        with open(os.path.join(dir_path, file_name), newline='') as csvfile:\n",
    "            reader = csv.reader(csvfile, delimiter=',')\n",
    "            rows = []\n",
    "            for i, row in enumerate(reader):\n",
    "                # ignora as primeiras 28 linhas\n",
    "                if i >= 28:\n",
    "                    # substitui , por ; e . por ,\n",
    "                    new_row = [cell.replace(',', ';').replace('.', ',') for cell in row]\n",
    "                    rows.append(new_row)\n",
    "            # adiciona os dados do arquivo na lista\n",
    "            data.append((file_name, rows))\n",
    "\n",
    "# cria um dicionário para armazenar os dados transpostos de cada arquivo\n",
    "transposed_data = {}\n",
    "\n",
    "# loop para transpor os dados de cada arquivo\n",
    "for file_name, rows in data:\n",
    "    transposed_rows = []\n",
    "    for j in range(len(rows[0])):\n",
    "        transposed_row = [file_name] + [rows[i][j] for i in range(len(rows))]\n",
    "        transposed_rows.append(transposed_row)\n",
    "    transposed_data[file_name] = transposed_rows\n",
    "\n",
    "# escreve os dados transpostos em um único arquivo csv\n",
    "with open('dados_agrupados.csv', 'w', newline='') as csvfile:\n",
    "    writer = csv.writer(csvfile, delimiter=';')\n",
    "    # escreve o cabeçalho do arquivo\n",
    "    writer.writerow(['Arquivo'] + transposed_data[data[0][0]][0])\n",
    "    # escreve os dados de cada arquivo\n",
    "    for file_name, transposed_rows in transposed_data.items():\n",
    "        for row in transposed_rows[1:]:\n",
    "            writer.writerow(row)\n"
   ]
  },
  {
   "cell_type": "code",
   "execution_count": null,
   "id": "4c9c5320",
   "metadata": {},
   "outputs": [],
   "source": []
  },
  {
   "cell_type": "code",
   "execution_count": null,
   "id": "0b8d354e",
   "metadata": {},
   "outputs": [],
   "source": []
  }
 ],
 "metadata": {
  "kernelspec": {
   "display_name": "Python 3 (ipykernel)",
   "language": "python",
   "name": "python3"
  },
  "language_info": {
   "codemirror_mode": {
    "name": "ipython",
    "version": 3
   },
   "file_extension": ".py",
   "mimetype": "text/x-python",
   "name": "python",
   "nbconvert_exporter": "python",
   "pygments_lexer": "ipython3",
   "version": "3.9.13"
  }
 },
 "nbformat": 4,
 "nbformat_minor": 5
}
