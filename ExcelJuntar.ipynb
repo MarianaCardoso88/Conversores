{
 "cells": [
  {
   "cell_type": "code",
   "execution_count": 1,
   "id": "0672e678",
   "metadata": {},
   "outputs": [],
   "source": [
    "import pandas as pd\n",
    "\n",
    "# Carregar os arquivos Excel\n",
    "planilha1 = pd.read_excel('planilha1.xlsx')\n",
    "planilha2 = pd.read_excel('planilha2.xlsx')\n",
    "\n",
    "# Concatenar as planilhas\n",
    "planilhas_concatenadas = pd.concat([planilha1, planilha2], ignore_index=True)\n",
    "\n",
    "# Salvar a planilha concatenada em um novo arquivo Excel\n",
    "planilhas_concatenadas.to_excel('planilhas_concatenadas.xlsx', index=False)"
   ]
  },
  {
   "cell_type": "code",
   "execution_count": null,
   "id": "c1770f60",
   "metadata": {},
   "outputs": [],
   "source": []
  }
 ],
 "metadata": {
  "kernelspec": {
   "display_name": "Python 3 (ipykernel)",
   "language": "python",
   "name": "python3"
  },
  "language_info": {
   "codemirror_mode": {
    "name": "ipython",
    "version": 3
   },
   "file_extension": ".py",
   "mimetype": "text/x-python",
   "name": "python",
   "nbconvert_exporter": "python",
   "pygments_lexer": "ipython3",
   "version": "3.9.13"
  }
 },
 "nbformat": 4,
 "nbformat_minor": 5
}
