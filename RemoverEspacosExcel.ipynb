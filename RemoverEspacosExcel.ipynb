{
 "cells": [
  {
   "cell_type": "code",
   "execution_count": 3,
   "id": "f9c59609",
   "metadata": {},
   "outputs": [],
   "source": [
    "import os\n",
    "from openpyxl import load_workbook\n",
    "\n",
    "def remove_spaces_from_cells(sheet):\n",
    "    for row in sheet.iter_rows():\n",
    "        for cell in row:\n",
    "            if cell.value is not None and isinstance(cell.value, str):\n",
    "                cell.value = cell.value.replace(\" \", \"\")\n",
    "\n",
    "def process_excel_files(folder_path):\n",
    "    for filename in os.listdir(folder_path):\n",
    "        if filename.endswith(\".xlsx\"):\n",
    "            file_path = os.path.join(folder_path, filename)\n",
    "\n",
    "            # Load the workbook\n",
    "            workbook = load_workbook(file_path)\n",
    "\n",
    "            for sheet_name in workbook.sheetnames:\n",
    "                sheet = workbook[sheet_name]\n",
    "                remove_spaces_from_cells(sheet)\n",
    "\n",
    "            # Save the modified workbook\n",
    "            modified_file_path = os.path.join(folder_path, filename)\n",
    "            workbook.save(modified_file_path)\n",
    "\n",
    "if __name__ == \"__main__\":\n",
    "    folder_path = \"12\"  # Substitua pelo caminho da sua pasta\n",
    "    process_excel_files(folder_path)"
   ]
  },
  {
   "cell_type": "code",
   "execution_count": null,
   "id": "a80dc3c7",
   "metadata": {},
   "outputs": [],
   "source": []
  }
 ],
 "metadata": {
  "kernelspec": {
   "display_name": "Python 3 (ipykernel)",
   "language": "python",
   "name": "python3"
  },
  "language_info": {
   "codemirror_mode": {
    "name": "ipython",
    "version": 3
   },
   "file_extension": ".py",
   "mimetype": "text/x-python",
   "name": "python",
   "nbconvert_exporter": "python",
   "pygments_lexer": "ipython3",
   "version": "3.9.13"
  }
 },
 "nbformat": 4,
 "nbformat_minor": 5
}
