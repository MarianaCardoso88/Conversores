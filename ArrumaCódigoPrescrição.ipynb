{
 "cells": [
  {
   "cell_type": "code",
   "execution_count": 4,
   "id": "87902033",
   "metadata": {},
   "outputs": [],
   "source": [
    "import pandas as pd\n",
    "\n",
    "# Carregue as duas planilhas em DataFrames\n",
    "planilha1 = pd.read_excel('Espectros.xlsx')\n",
    "planilha2 = pd.read_excel('Prescricao.xlsx')\n",
    "\n",
    "# Use a função merge para combinar as planilhas com base na coluna \"chave\"\n",
    "resultado = pd.merge(planilha1, planilha2, on='Código', how='left')\n",
    "\n",
    "# Salve o resultado em uma nova planilha Excel\n",
    "resultado.to_excel('planilha_combinada.xlsx', index=False)\n"
   ]
  },
  {
   "cell_type": "code",
   "execution_count": null,
   "id": "d83e1523",
   "metadata": {},
   "outputs": [],
   "source": []
  }
 ],
 "metadata": {
  "kernelspec": {
   "display_name": "Python 3 (ipykernel)",
   "language": "python",
   "name": "python3"
  },
  "language_info": {
   "codemirror_mode": {
    "name": "ipython",
    "version": 3
   },
   "file_extension": ".py",
   "mimetype": "text/x-python",
   "name": "python",
   "nbconvert_exporter": "python",
   "pygments_lexer": "ipython3",
   "version": "3.9.13"
  }
 },
 "nbformat": 4,
 "nbformat_minor": 5
}
