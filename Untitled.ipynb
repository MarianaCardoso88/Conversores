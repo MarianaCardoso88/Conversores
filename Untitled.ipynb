{
 "cells": [
  {
   "cell_type": "code",
   "execution_count": 4,
   "id": "104ed905",
   "metadata": {},
   "outputs": [
    {
     "name": "stderr",
     "output_type": "stream",
     "text": [
      "C:\\Users\\gabri\\AppData\\Local\\Temp\\ipykernel_5648\\62061925.py:28: UserWarning: Pandas requires version '3.0.5' or newer of 'xlsxwriter' (version '3.0.3' currently installed).\n",
      "  df.to_excel(xlsx_path, index=False)\n",
      "C:\\Users\\gabri\\AppData\\Local\\Temp\\ipykernel_5648\\62061925.py:28: UserWarning: Pandas requires version '3.0.5' or newer of 'xlsxwriter' (version '3.0.3' currently installed).\n",
      "  df.to_excel(xlsx_path, index=False)\n",
      "C:\\Users\\gabri\\AppData\\Local\\Temp\\ipykernel_5648\\62061925.py:28: UserWarning: Pandas requires version '3.0.5' or newer of 'xlsxwriter' (version '3.0.3' currently installed).\n",
      "  df.to_excel(xlsx_path, index=False)\n",
      "C:\\Users\\gabri\\AppData\\Local\\Temp\\ipykernel_5648\\62061925.py:28: UserWarning: Pandas requires version '3.0.5' or newer of 'xlsxwriter' (version '3.0.3' currently installed).\n",
      "  df.to_excel(xlsx_path, index=False)\n",
      "C:\\Users\\gabri\\AppData\\Local\\Temp\\ipykernel_5648\\62061925.py:28: UserWarning: Pandas requires version '3.0.5' or newer of 'xlsxwriter' (version '3.0.3' currently installed).\n",
      "  df.to_excel(xlsx_path, index=False)\n",
      "C:\\Users\\gabri\\AppData\\Local\\Temp\\ipykernel_5648\\62061925.py:28: UserWarning: Pandas requires version '3.0.5' or newer of 'xlsxwriter' (version '3.0.3' currently installed).\n",
      "  df.to_excel(xlsx_path, index=False)\n",
      "C:\\Users\\gabri\\AppData\\Local\\Temp\\ipykernel_5648\\62061925.py:28: UserWarning: Pandas requires version '3.0.5' or newer of 'xlsxwriter' (version '3.0.3' currently installed).\n",
      "  df.to_excel(xlsx_path, index=False)\n",
      "C:\\Users\\gabri\\AppData\\Local\\Temp\\ipykernel_5648\\62061925.py:28: UserWarning: Pandas requires version '3.0.5' or newer of 'xlsxwriter' (version '3.0.3' currently installed).\n",
      "  df.to_excel(xlsx_path, index=False)\n",
      "C:\\Users\\gabri\\AppData\\Local\\Temp\\ipykernel_5648\\62061925.py:28: UserWarning: Pandas requires version '3.0.5' or newer of 'xlsxwriter' (version '3.0.3' currently installed).\n",
      "  df.to_excel(xlsx_path, index=False)\n",
      "C:\\Users\\gabri\\AppData\\Local\\Temp\\ipykernel_5648\\62061925.py:28: UserWarning: Pandas requires version '3.0.5' or newer of 'xlsxwriter' (version '3.0.3' currently installed).\n",
      "  df.to_excel(xlsx_path, index=False)\n",
      "C:\\Users\\gabri\\AppData\\Local\\Temp\\ipykernel_5648\\62061925.py:28: UserWarning: Pandas requires version '3.0.5' or newer of 'xlsxwriter' (version '3.0.3' currently installed).\n",
      "  df.to_excel(xlsx_path, index=False)\n",
      "C:\\Users\\gabri\\AppData\\Local\\Temp\\ipykernel_5648\\62061925.py:28: UserWarning: Pandas requires version '3.0.5' or newer of 'xlsxwriter' (version '3.0.3' currently installed).\n",
      "  df.to_excel(xlsx_path, index=False)\n",
      "C:\\Users\\gabri\\AppData\\Local\\Temp\\ipykernel_5648\\62061925.py:28: UserWarning: Pandas requires version '3.0.5' or newer of 'xlsxwriter' (version '3.0.3' currently installed).\n",
      "  df.to_excel(xlsx_path, index=False)\n",
      "C:\\Users\\gabri\\AppData\\Local\\Temp\\ipykernel_5648\\62061925.py:28: UserWarning: Pandas requires version '3.0.5' or newer of 'xlsxwriter' (version '3.0.3' currently installed).\n",
      "  df.to_excel(xlsx_path, index=False)\n",
      "C:\\Users\\gabri\\AppData\\Local\\Temp\\ipykernel_5648\\62061925.py:28: UserWarning: Pandas requires version '3.0.5' or newer of 'xlsxwriter' (version '3.0.3' currently installed).\n",
      "  df.to_excel(xlsx_path, index=False)\n",
      "C:\\Users\\gabri\\AppData\\Local\\Temp\\ipykernel_5648\\62061925.py:28: UserWarning: Pandas requires version '3.0.5' or newer of 'xlsxwriter' (version '3.0.3' currently installed).\n",
      "  df.to_excel(xlsx_path, index=False)\n",
      "C:\\Users\\gabri\\AppData\\Local\\Temp\\ipykernel_5648\\62061925.py:28: UserWarning: Pandas requires version '3.0.5' or newer of 'xlsxwriter' (version '3.0.3' currently installed).\n",
      "  df.to_excel(xlsx_path, index=False)\n",
      "C:\\Users\\gabri\\AppData\\Local\\Temp\\ipykernel_5648\\62061925.py:28: UserWarning: Pandas requires version '3.0.5' or newer of 'xlsxwriter' (version '3.0.3' currently installed).\n",
      "  df.to_excel(xlsx_path, index=False)\n",
      "C:\\Users\\gabri\\AppData\\Local\\Temp\\ipykernel_5648\\62061925.py:28: UserWarning: Pandas requires version '3.0.5' or newer of 'xlsxwriter' (version '3.0.3' currently installed).\n",
      "  df.to_excel(xlsx_path, index=False)\n",
      "C:\\Users\\gabri\\AppData\\Local\\Temp\\ipykernel_5648\\62061925.py:28: UserWarning: Pandas requires version '3.0.5' or newer of 'xlsxwriter' (version '3.0.3' currently installed).\n",
      "  df.to_excel(xlsx_path, index=False)\n",
      "C:\\Users\\gabri\\AppData\\Local\\Temp\\ipykernel_5648\\62061925.py:28: UserWarning: Pandas requires version '3.0.5' or newer of 'xlsxwriter' (version '3.0.3' currently installed).\n",
      "  df.to_excel(xlsx_path, index=False)\n",
      "C:\\Users\\gabri\\AppData\\Local\\Temp\\ipykernel_5648\\62061925.py:28: UserWarning: Pandas requires version '3.0.5' or newer of 'xlsxwriter' (version '3.0.3' currently installed).\n",
      "  df.to_excel(xlsx_path, index=False)\n",
      "C:\\Users\\gabri\\AppData\\Local\\Temp\\ipykernel_5648\\62061925.py:28: UserWarning: Pandas requires version '3.0.5' or newer of 'xlsxwriter' (version '3.0.3' currently installed).\n",
      "  df.to_excel(xlsx_path, index=False)\n",
      "C:\\Users\\gabri\\AppData\\Local\\Temp\\ipykernel_5648\\62061925.py:28: UserWarning: Pandas requires version '3.0.5' or newer of 'xlsxwriter' (version '3.0.3' currently installed).\n",
      "  df.to_excel(xlsx_path, index=False)\n",
      "C:\\Users\\gabri\\AppData\\Local\\Temp\\ipykernel_5648\\62061925.py:28: UserWarning: Pandas requires version '3.0.5' or newer of 'xlsxwriter' (version '3.0.3' currently installed).\n",
      "  df.to_excel(xlsx_path, index=False)\n",
      "C:\\Users\\gabri\\AppData\\Local\\Temp\\ipykernel_5648\\62061925.py:28: UserWarning: Pandas requires version '3.0.5' or newer of 'xlsxwriter' (version '3.0.3' currently installed).\n",
      "  df.to_excel(xlsx_path, index=False)\n",
      "C:\\Users\\gabri\\AppData\\Local\\Temp\\ipykernel_5648\\62061925.py:28: UserWarning: Pandas requires version '3.0.5' or newer of 'xlsxwriter' (version '3.0.3' currently installed).\n",
      "  df.to_excel(xlsx_path, index=False)\n",
      "C:\\Users\\gabri\\AppData\\Local\\Temp\\ipykernel_5648\\62061925.py:28: UserWarning: Pandas requires version '3.0.5' or newer of 'xlsxwriter' (version '3.0.3' currently installed).\n",
      "  df.to_excel(xlsx_path, index=False)\n",
      "C:\\Users\\gabri\\AppData\\Local\\Temp\\ipykernel_5648\\62061925.py:28: UserWarning: Pandas requires version '3.0.5' or newer of 'xlsxwriter' (version '3.0.3' currently installed).\n",
      "  df.to_excel(xlsx_path, index=False)\n"
     ]
    },
    {
     "name": "stdout",
     "output_type": "stream",
     "text": [
      "Substituição e conversão concluídas para todos os arquivos .csv na pasta.\n"
     ]
    },
    {
     "name": "stderr",
     "output_type": "stream",
     "text": [
      "C:\\Users\\gabri\\AppData\\Local\\Temp\\ipykernel_5648\\62061925.py:28: UserWarning: Pandas requires version '3.0.5' or newer of 'xlsxwriter' (version '3.0.3' currently installed).\n",
      "  df.to_excel(xlsx_path, index=False)\n"
     ]
    }
   ],
   "source": [
    "import os\n",
    "import pandas as pd\n",
    "\n",
    "# Caminho para a pasta com os arquivos .csv\n",
    "folder_path = '../19-06-2024'\n",
    "\n",
    "# Função para substituir os caracteres nos arquivos e salvar como .xlsx\n",
    "def replace_characters_and_save_as_xlsx(file_path):\n",
    "    # Lendo o arquivo CSV com pandas\n",
    "    df = pd.read_csv(file_path, delimiter=',')\n",
    "    \n",
    "    # Salvando o DataFrame como CSV com ; como delimitador\n",
    "    temp_csv_path = file_path.replace('.csv', '_temp.csv')\n",
    "    df.to_csv(temp_csv_path, sep=';', index=False)\n",
    "    \n",
    "    # Lendo o CSV temporário para realizar a substituição de . por ,\n",
    "    with open(temp_csv_path, 'r', encoding='utf-8') as file:\n",
    "        content = file.read()\n",
    "    \n",
    "    content = content.replace('.', ',')\n",
    "    \n",
    "    with open(temp_csv_path, 'w', encoding='utf-8') as file:\n",
    "        file.write(content)\n",
    "    \n",
    "    # Lendo novamente o CSV temporário com pandas para salvar como .xlsx\n",
    "    df = pd.read_csv(temp_csv_path, delimiter=';')\n",
    "    xlsx_path = file_path.replace('.csv', '.xlsx')\n",
    "    df.to_excel(xlsx_path, index=False)\n",
    "    \n",
    "    # Removendo o arquivo CSV temporário\n",
    "    os.remove(temp_csv_path)\n",
    "\n",
    "# Iterando sobre todos os arquivos na pasta\n",
    "for filename in os.listdir(folder_path):\n",
    "    if filename.endswith('.csv'):\n",
    "        file_path = os.path.join(folder_path, filename)\n",
    "        replace_characters_and_save_as_xlsx(file_path)\n",
    "\n",
    "print(\"Substituição e conversão concluídas para todos os arquivos .csv na pasta.\")\n"
   ]
  },
  {
   "cell_type": "code",
   "execution_count": null,
   "id": "4ade40ee",
   "metadata": {},
   "outputs": [],
   "source": []
  }
 ],
 "metadata": {
  "kernelspec": {
   "display_name": "Python 3 (ipykernel)",
   "language": "python",
   "name": "python3"
  },
  "language_info": {
   "codemirror_mode": {
    "name": "ipython",
    "version": 3
   },
   "file_extension": ".py",
   "mimetype": "text/x-python",
   "name": "python",
   "nbconvert_exporter": "python",
   "pygments_lexer": "ipython3",
   "version": "3.9.13"
  }
 },
 "nbformat": 4,
 "nbformat_minor": 5
}
