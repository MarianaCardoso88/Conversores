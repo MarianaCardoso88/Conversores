{
 "cells": [
  {
   "cell_type": "code",
   "execution_count": 2,
   "id": "6e89f05c",
   "metadata": {},
   "outputs": [
    {
     "name": "stdout",
     "output_type": "stream",
     "text": [
      "Conversão concluída.\n"
     ]
    }
   ],
   "source": [
    "import os\n",
    "from openpyxl import Workbook\n",
    "from openpyxl import load_workbook\n",
    "\n",
    "# Diretório onde os arquivos TXT estão localizados\n",
    "diretorio_txt = '01-09'\n",
    "\n",
    "# Diretório onde os arquivos Excel serão salvos\n",
    "diretorio_excel = 'saida'\n",
    "\n",
    "# Lista todos os arquivos no diretório TXT\n",
    "arquivos_txt = os.listdir(diretorio_txt)\n",
    "\n",
    "# Loop para processar cada arquivo TXT\n",
    "for arquivo_txt in arquivos_txt:\n",
    "    # Verifica se o arquivo é um arquivo TXT\n",
    "    if arquivo_txt.endswith('.txt'):\n",
    "        caminho_completo_txt = os.path.join(diretorio_txt, arquivo_txt)\n",
    "\n",
    "        # Carrega o conteúdo do arquivo TXT\n",
    "        with open(caminho_completo_txt, 'r') as file:\n",
    "            linhas = file.readlines()\n",
    "\n",
    "        # Cria um novo arquivo Excel e escreve as linhas do arquivo TXT em colunas\n",
    "        caminho_completo_excel = os.path.join(diretorio_excel, os.path.splitext(arquivo_txt)[0] + '.xlsx')\n",
    "        workbook = Workbook()\n",
    "        sheet = workbook.active\n",
    "\n",
    "        for linha in linhas:\n",
    "            # Divide a linha com base na tabulação e adiciona as partes como colunas\n",
    "            colunas = linha.strip().split('\\t')\n",
    "            sheet.append(colunas)\n",
    "\n",
    "        # Salva o arquivo Excel\n",
    "        workbook.save(caminho_completo_excel)\n",
    "\n",
    "print(\"Conversão concluída.\")\n"
   ]
  },
  {
   "cell_type": "code",
   "execution_count": null,
   "id": "fffe5b8e",
   "metadata": {},
   "outputs": [],
   "source": []
  }
 ],
 "metadata": {
  "kernelspec": {
   "display_name": "Python 3 (ipykernel)",
   "language": "python",
   "name": "python3"
  },
  "language_info": {
   "codemirror_mode": {
    "name": "ipython",
    "version": 3
   },
   "file_extension": ".py",
   "mimetype": "text/x-python",
   "name": "python",
   "nbconvert_exporter": "python",
   "pygments_lexer": "ipython3",
   "version": "3.9.13"
  }
 },
 "nbformat": 4,
 "nbformat_minor": 5
}
