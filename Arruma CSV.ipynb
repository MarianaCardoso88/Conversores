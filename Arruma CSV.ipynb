{
 "cells": [
  {
   "cell_type": "markdown",
   "id": "035ec8f5",
   "metadata": {},
   "source": [
    "Esse script transforma o csv puro, substituindo a vírgula (,) por ponto e vírgula (;) e depois ponto (.) por vírgula (,). Esse é o formato que o excel consegue trabalhar. O script não resulta em arquivo do tipo excel."
   ]
  },
  {
   "cell_type": "code",
   "execution_count": 1,
   "id": "7cbaccd5",
   "metadata": {},
   "outputs": [
    {
     "name": "stdout",
     "output_type": "stream",
     "text": [
      "Substituição concluída para todos os arquivos .csv na pasta.\n"
     ]
    }
   ],
   "source": [
    "import os\n",
    "\n",
    "# Caminho para a pasta com os arquivos .csv\n",
    "folder_path = '../19-06-2024'\n",
    "\n",
    "# Função para substituir os caracteres nos arquivos\n",
    "def replace_characters_in_file(file_path):\n",
    "    with open(file_path, 'r', encoding='utf-8') as file:\n",
    "        content = file.read()\n",
    "    \n",
    "    # Substituindo , por ; e depois . por ,\n",
    "    content = content.replace(',', ';').replace('.', ',')\n",
    "\n",
    "    with open(file_path, 'w', encoding='utf-8') as file:\n",
    "        file.write(content)\n",
    "\n",
    "# Iterando sobre todos os arquivos na pasta\n",
    "for filename in os.listdir(folder_path):\n",
    "    if filename.endswith('.csv'):\n",
    "        file_path = os.path.join(folder_path, filename)\n",
    "        replace_characters_in_file(file_path)\n",
    "\n",
    "print(\"Substituição concluída para todos os arquivos .csv na pasta.\")\n"
   ]
  }
 ],
 "metadata": {
  "kernelspec": {
   "display_name": "Python 3 (ipykernel)",
   "language": "python",
   "name": "python3"
  },
  "language_info": {
   "codemirror_mode": {
    "name": "ipython",
    "version": 3
   },
   "file_extension": ".py",
   "mimetype": "text/x-python",
   "name": "python",
   "nbconvert_exporter": "python",
   "pygments_lexer": "ipython3",
   "version": "3.9.13"
  }
 },
 "nbformat": 4,
 "nbformat_minor": 5
}
