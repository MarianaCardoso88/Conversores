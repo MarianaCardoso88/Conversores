{
 "cells": [
  {
   "cell_type": "code",
   "execution_count": 1,
   "id": "e8375ca9",
   "metadata": {},
   "outputs": [],
   "source": [
    "import pandas as pd\n",
    "\n",
    "# Carregue as duas planilhas em DataFrames\n",
    "planilha1 = pd.read_excel('Exame 1_15.xlsx')\n",
    "planilha2 = pd.read_excel('Progenos_teste.xlsx')\n",
    "\n",
    "# Combine as planilhas usando a coluna \"Código\" como chave\n",
    "resultado = pd.merge(planilha1, planilha2, on='Código', how='inner')\n",
    "\n",
    "# O argumento 'how' pode ser 'inner', 'outer', 'left' ou 'right', dependendo do tipo de junção que você deseja.\n",
    "\n",
    "# Salve o resultado em uma nova planilha, se desejar\n",
    "resultado.to_excel('planilha_combinada.xlsx', index=False)"
   ]
  },
  {
   "cell_type": "code",
   "execution_count": null,
   "id": "5f46c5d6",
   "metadata": {},
   "outputs": [],
   "source": []
  }
 ],
 "metadata": {
  "kernelspec": {
   "display_name": "Python 3 (ipykernel)",
   "language": "python",
   "name": "python3"
  },
  "language_info": {
   "codemirror_mode": {
    "name": "ipython",
    "version": 3
   },
   "file_extension": ".py",
   "mimetype": "text/x-python",
   "name": "python",
   "nbconvert_exporter": "python",
   "pygments_lexer": "ipython3",
   "version": "3.9.13"
  }
 },
 "nbformat": 4,
 "nbformat_minor": 5
}
