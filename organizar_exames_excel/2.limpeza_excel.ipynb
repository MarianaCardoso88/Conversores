{
 "cells": [
  {
   "cell_type": "code",
   "execution_count": 5,
   "metadata": {},
   "outputs": [
    {
     "name": "stdout",
     "output_type": "stream",
     "text": [
      "Remoção das colunas concluída\n"
     ]
    }
   ],
   "source": [
    "import pandas as pd\n",
    "\n",
    "def remove_colunas(input_file_path, output_file_path):\n",
    "    # Lista das colunas a serem removidas\n",
    "    colunas_para_remover = ['Unidade', 'Referência', 'Material', 'Método']\n",
    "\n",
    "    # Lendo o arquivo Excel\n",
    "    df = pd.read_excel(input_file_path)\n",
    "\n",
    "    # Removendo as colunas especificadas\n",
    "    df_modificado = df.drop(columns=colunas_para_remover)\n",
    "\n",
    "    # Salvando o DataFrame modificado em um novo arquivo Excel\n",
    "    # Substitua 'novo_arquivo.xlsx' pelo nome desejado para o arquivo resultante\n",
    "    df_modificado.to_excel(output_file_path, index=False)\n",
    "\n",
    "if __name__ == \"__main__\":\n",
    "    input_file_path = input(\"Digite o caminho do arquivo de entrada: \")\n",
    "    output_file_path = input(\"Digite o caminho do arquivo de saída: \")\n",
    "\n",
    "    # Chamando a função para remover as colunas\n",
    "    remove_colunas(input_file_path, output_file_path)\n",
    "\n",
    "    print(\"Remoção das colunas concluída\")"
   ]
  }
 ],
 "metadata": {
  "kernelspec": {
   "display_name": "Jupyter",
   "language": "python",
   "name": "python3"
  },
  "language_info": {
   "codemirror_mode": {
    "name": "ipython",
    "version": 3
   },
   "file_extension": ".py",
   "mimetype": "text/x-python",
   "name": "python",
   "nbconvert_exporter": "python",
   "pygments_lexer": "ipython3",
   "version": "3.12.4"
  }
 },
 "nbformat": 4,
 "nbformat_minor": 2
}
