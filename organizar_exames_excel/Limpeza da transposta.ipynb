{
 "cells": [
  {
   "cell_type": "code",
   "execution_count": 2,
   "id": "a20d763d",
   "metadata": {},
   "outputs": [
    {
     "name": "stdout",
     "output_type": "stream",
     "text": [
      "Linhas removidas com sucesso.\n"
     ]
    }
   ],
   "source": [
    "import pandas as pd\n",
    "import os\n",
    "\n",
    "# Função para processar um arquivo Excel\n",
    "def processar_arquivo_excel(caminho_arquivo):\n",
    "    # Carregar o arquivo Excel em um DataFrame\n",
    "    df = pd.read_excel(caminho_arquivo, header=None)  # Não considerar a primeira linha como cabeçalho\n",
    "\n",
    "    # Remover as linhas com os títulos especificados\n",
    "    df = df[~df.iloc[:, 0].isin(['Unidade', 'Referência', 'Material' 'Método'])]\n",
    "\n",
    "    # Salvar o DataFrame de volta no arquivo Excel\n",
    "    df.to_excel(caminho_arquivo, index=False, header=False)  # Não incluir cabeçalho na saída\n",
    "\n",
    "# Diretório contendo os arquivos Excel\n",
    "diretorio = '/home/vini/Desktop/teste/3.limpeza_transpostas'\n",
    "\n",
    "# Listar todos os arquivos no diretório\n",
    "arquivos_excel = [f for f in os.listdir(diretorio) if f.endswith('.xlsx')]\n",
    "\n",
    "# Processar cada arquivo Excel\n",
    "for arquivo in arquivos_excel:\n",
    "    caminho_arquivo = os.path.join(diretorio, arquivo)\n",
    "    processar_arquivo_excel(caminho_arquivo)\n",
    "\n",
    "print(\"Linhas removidas com sucesso.\")\n",
    "\n",
    "\n",
    "\n",
    "\n"
   ]
  },
  {
   "cell_type": "code",
   "execution_count": 4,
   "id": "26c258d0",
   "metadata": {},
   "outputs": [
    {
     "name": "stdout",
     "output_type": "stream",
     "text": [
      "Colunas adicionadas em 6067943.xlsx\n",
      "Colunas adicionadas em 6071447.xlsx\n",
      "Colunas adicionadas em 6071775.xlsx\n",
      "Colunas adicionadas em 6071421.xlsx\n",
      "Colunas adicionadas em 6071631.xlsx\n",
      "Colunas adicionadas em 6071818.xlsx\n",
      "Colunas adicionadas em 6070421.xlsx\n",
      "Colunas adicionadas em 6065519.xlsx\n",
      "Colunas adicionadas em 6071689.xlsx\n",
      "Colunas adicionadas em 6071592.xlsx\n",
      "Colunas adicionadas em 6071757.xlsx\n",
      "Colunas adicionadas em 6071668.xlsx\n",
      "Colunas adicionadas em 6070369.xlsx\n",
      "Colunas adicionadas em 6071496.xlsx\n",
      "Colunas adicionadas em 6028212.xlsx\n",
      "Colunas adicionadas em 6068796.xlsx\n",
      "Colunas adicionadas em 6071718.xlsx\n",
      "Colunas adicionadas em 6071789.xlsx\n",
      "Concluído!\n"
     ]
    }
   ],
   "source": [
    "import os\n",
    "import pandas as pd\n",
    "\n",
    "# Caminho para a pasta que contém os arquivos Excel\n",
    "pasta = '/home/vini/Desktop/teste/3.limpeza_transpostas'\n",
    "\n",
    "# Lista de extensões de arquivo que você deseja processar (neste caso, arquivos Excel)\n",
    "extensoes = ['.xls', '.xlsx']\n",
    "\n",
    "# Títulos das novas colunas\n",
    "novas_colunas = ['Data', 'Atendimento', 'Código']\n",
    "\n",
    "# Itera sobre todos os arquivos na pasta\n",
    "for arquivo in os.listdir(pasta):\n",
    "    # Verifica se o arquivo tem a extensão desejada\n",
    "    if any(arquivo.endswith(ext) for ext in extensoes):\n",
    "        caminho_arquivo = os.path.join(pasta, arquivo)\n",
    "\n",
    "        # Lê o arquivo Excel\n",
    "        df = pd.read_excel(caminho_arquivo)\n",
    "\n",
    "        # Adiciona as novas colunas no início do DataFrame\n",
    "        df = pd.concat([pd.DataFrame(columns=novas_colunas), df], axis=1)\n",
    "\n",
    "        # Salva o DataFrame de volta no arquivo Excel\n",
    "        df.to_excel(caminho_arquivo, index=False)\n",
    "\n",
    "        print(f'Colunas adicionadas em {arquivo}')\n",
    "\n",
    "print('Concluído!')\n"
   ]
  },
  {
   "cell_type": "code",
   "execution_count": null,
   "id": "b9811bdb",
   "metadata": {},
   "outputs": [],
   "source": []
  }
 ],
 "metadata": {
  "kernelspec": {
   "display_name": "Python 3 (ipykernel)",
   "language": "python",
   "name": "python3"
  },
  "language_info": {
   "codemirror_mode": {
    "name": "ipython",
    "version": 3
   },
   "file_extension": ".py",
   "mimetype": "text/x-python",
   "name": "python",
   "nbconvert_exporter": "python",
   "pygments_lexer": "ipython3",
   "version": "3.12.4"
  }
 },
 "nbformat": 4,
 "nbformat_minor": 5
}
