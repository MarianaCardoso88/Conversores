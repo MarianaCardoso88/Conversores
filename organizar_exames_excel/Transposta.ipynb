{
 "cells": [
  {
   "cell_type": "code",
   "execution_count": 3,
   "id": "fd7ff971",
   "metadata": {},
   "outputs": [
    {
     "name": "stdout",
     "output_type": "stream",
     "text": [
      "Transposição concluída para 6067943.xlsx. Resultado salvo em /home/vini/Desktop/novosExamesUnivasOrganizados/2024/06_excel_arrumado/03/1.Transpostas/6067943.xlsx\n",
      "Transposição concluída para 6071447.xlsx. Resultado salvo em /home/vini/Desktop/novosExamesUnivasOrganizados/2024/06_excel_arrumado/03/1.Transpostas/6071447.xlsx\n",
      "Transposição concluída para 6071775.xlsx. Resultado salvo em /home/vini/Desktop/novosExamesUnivasOrganizados/2024/06_excel_arrumado/03/1.Transpostas/6071775.xlsx\n",
      "Transposição concluída para 6071421.xlsx. Resultado salvo em /home/vini/Desktop/novosExamesUnivasOrganizados/2024/06_excel_arrumado/03/1.Transpostas/6071421.xlsx\n",
      "Transposição concluída para 6071631.xlsx. Resultado salvo em /home/vini/Desktop/novosExamesUnivasOrganizados/2024/06_excel_arrumado/03/1.Transpostas/6071631.xlsx\n",
      "Transposição concluída para 6071818.xlsx. Resultado salvo em /home/vini/Desktop/novosExamesUnivasOrganizados/2024/06_excel_arrumado/03/1.Transpostas/6071818.xlsx\n",
      "Transposição concluída para 6070421.xlsx. Resultado salvo em /home/vini/Desktop/novosExamesUnivasOrganizados/2024/06_excel_arrumado/03/1.Transpostas/6070421.xlsx\n",
      "Transposição concluída para 6065519.xlsx. Resultado salvo em /home/vini/Desktop/novosExamesUnivasOrganizados/2024/06_excel_arrumado/03/1.Transpostas/6065519.xlsx\n",
      "Transposição concluída para 6071689.xlsx. Resultado salvo em /home/vini/Desktop/novosExamesUnivasOrganizados/2024/06_excel_arrumado/03/1.Transpostas/6071689.xlsx\n",
      "Transposição concluída para 6071592.xlsx. Resultado salvo em /home/vini/Desktop/novosExamesUnivasOrganizados/2024/06_excel_arrumado/03/1.Transpostas/6071592.xlsx\n",
      "Transposição concluída para 6071757.xlsx. Resultado salvo em /home/vini/Desktop/novosExamesUnivasOrganizados/2024/06_excel_arrumado/03/1.Transpostas/6071757.xlsx\n",
      "Transposição concluída para 6071668.xlsx. Resultado salvo em /home/vini/Desktop/novosExamesUnivasOrganizados/2024/06_excel_arrumado/03/1.Transpostas/6071668.xlsx\n",
      "Transposição concluída para 6070369.xlsx. Resultado salvo em /home/vini/Desktop/novosExamesUnivasOrganizados/2024/06_excel_arrumado/03/1.Transpostas/6070369.xlsx\n",
      "Transposição concluída para 6071496.xlsx. Resultado salvo em /home/vini/Desktop/novosExamesUnivasOrganizados/2024/06_excel_arrumado/03/1.Transpostas/6071496.xlsx\n",
      "Transposição concluída para 6028212.xlsx. Resultado salvo em /home/vini/Desktop/novosExamesUnivasOrganizados/2024/06_excel_arrumado/03/1.Transpostas/6028212.xlsx\n",
      "Transposição concluída para 6068796.xlsx. Resultado salvo em /home/vini/Desktop/novosExamesUnivasOrganizados/2024/06_excel_arrumado/03/1.Transpostas/6068796.xlsx\n",
      "Transposição concluída para 6071718.xlsx. Resultado salvo em /home/vini/Desktop/novosExamesUnivasOrganizados/2024/06_excel_arrumado/03/1.Transpostas/6071718.xlsx\n",
      "Transposição concluída para 6071789.xlsx. Resultado salvo em /home/vini/Desktop/novosExamesUnivasOrganizados/2024/06_excel_arrumado/03/1.Transpostas/6071789.xlsx\n"
     ]
    }
   ],
   "source": [
    "import os\n",
    "import pandas as pd\n",
    "\n",
    "def transpor(input_path, output_path):\n",
    "    # Garante que a pasta de saída exista\n",
    "    if not os.path.exists(output_path):\n",
    "        os.makedirs(output_path)\n",
    "\n",
    "    # Lista todos os arquivos na pasta de entrada\n",
    "    arquivos_excel = [arquivo for arquivo in os.listdir(input_path) if arquivo.endswith('.xlsx') and not arquivo.startswith('~$')]\n",
    "\n",
    "    for arquivo_excel in arquivos_excel:\n",
    "        # Caminho completo para o arquivo de entrada\n",
    "        caminho_entrada = os.path.join(input_path, arquivo_excel)\n",
    "\n",
    "        try:\n",
    "            # Lê o arquivo Excel como um DataFrame usando pandas\n",
    "            df = pd.read_excel(caminho_entrada, index_col=None)\n",
    "\n",
    "            # Transpõe o DataFrame\n",
    "            df_transposto = df.transpose()\n",
    "\n",
    "            # Caminho completo para o arquivo de saída\n",
    "            caminho_saida = os.path.join(output_path, f\"{arquivo_excel}\")\n",
    "\n",
    "            # Salva o DataFrame transposto de volta como um arquivo Excel\n",
    "            df_transposto.to_excel(caminho_saida, index=True, header=False)\n",
    "\n",
    "            print(f\"Transposição concluída para {arquivo_excel}. Resultado salvo em {caminho_saida}\")\n",
    "        except Exception as e:\n",
    "            print(f\"Erro ao processar {arquivo_excel}: {str(e)}\")\n",
    "\n",
    "if __name__ == \"__main__\":\n",
    "    # Organizando os códigos dos exames e identificando arquivos com mais de um exame\n",
    "    input_path_excel_limpo = input(\"Digite o caminho da pasta de entrada para os arquivos Excel sem colunas: \")\n",
    "    output_path_transpostas = input(\"Digite o caminho da pasta de saída para os arquivos Excel transpostos: \")\n",
    "    transpor(input_path_excel_limpo, output_path_transpostas)\n",
    "\n",
    "\n"
   ]
  }
 ],
 "metadata": {
  "kernelspec": {
   "display_name": "Python 3 (ipykernel)",
   "language": "python",
   "name": "python3"
  },
  "language_info": {
   "codemirror_mode": {
    "name": "ipython",
    "version": 3
   },
   "file_extension": ".py",
   "mimetype": "text/x-python",
   "name": "python",
   "nbconvert_exporter": "python",
   "pygments_lexer": "ipython3",
   "version": "3.12.4"
  }
 },
 "nbformat": 4,
 "nbformat_minor": 5
}
