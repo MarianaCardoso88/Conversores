{
 "cells": [
  {
   "cell_type": "code",
   "execution_count": 1,
   "metadata": {},
   "outputs": [
    {
     "name": "stdout",
     "output_type": "stream",
     "text": [
      "Conversão de TXT para Excel concluída.\n",
      "Remoção de colunas concluída.\n"
     ]
    },
    {
     "name": "stderr",
     "output_type": "stream",
     "text": [
      "/home/vini/labs/work/Conversores/organizar_exames_excel/excel_utils.py:162: FutureWarning: Setting an item of incompatible dtype is deprecated and will raise in a future error of pandas. Value '0      NaN\n",
      "1      NaN\n",
      "2      NaN\n",
      "3     35.0\n",
      "4    107.0\n",
      "5    179.0\n",
      "6      0.0\n",
      "7     37.0\n",
      "8    186.0\n",
      "Name: 07/06/24, dtype: object' has dtype incompatible with float64, please explicitly cast to a compatible dtype first.\n",
      "  df.iloc[:, 1] = df.iloc[:, 1].astype('object')\n"
     ]
    }
   ],
   "source": [
    "import file_processing\n",
    "import excel_utils\n",
    "\n",
    "if __name__ == \"__main__\":\n",
    "    input_path_dados_brutos = input(\"Digite o caminho da pasta de dados brutos organizadas em ano/mes/dia: \")\n",
    "    output_path_arquivos_excel = input(\"Digite o caminho da pasta de saída para os arquivos Excel não tratados: \")\n",
    "\n",
    "    # Converte arquivos de TXT para Excel\n",
    "    file_processing.txt_to_excel(input_path_dados_brutos, output_path_arquivos_excel)\n",
    "    print(\"Conversão de TXT para Excel concluída.\")\n",
    "\n",
    "    # Removendo colunas dos arquivos Excel\n",
    "    input_path_arquivos_excel = output_path_arquivos_excel\n",
    "    output_path_arquivos_sem_colunas = input(\"Digite o caminho da pasta de saída para os arquivos Excel sem as colunas: \")\n",
    "    file_processing.process_files(input_path_arquivos_excel, output_path_arquivos_sem_colunas, excel_utils.remove_colunas_arquivo)\n",
    "    print(\"Remoção de colunas concluída.\")\n",
    "\n",
    "    # Organizando os códigos dos exames e identificando arquivos com mais de um exame\n",
    "    input_path_arquivos_sem_colunas = output_path_arquivos_sem_colunas\n",
    "    output_path_arquivos_organizados = input(\"Digite o caminho da pasta de saída para os arquivos Excel com os códigos organizados: \")\n",
    "    file_processing.process_files(input_path_arquivos_sem_colunas, output_path_arquivos_organizados, excel_utils.organize_exams_code)\n",
    "    \n",
    "\n"
   ]
  }
 ],
 "metadata": {
  "kernelspec": {
   "display_name": "Jupyter",
   "language": "python",
   "name": "python3"
  },
  "language_info": {
   "codemirror_mode": {
    "name": "ipython",
    "version": 3
   },
   "file_extension": ".py",
   "mimetype": "text/x-python",
   "name": "python",
   "nbconvert_exporter": "python",
   "pygments_lexer": "ipython3",
   "version": "3.12.4"
  }
 },
 "nbformat": 4,
 "nbformat_minor": 2
}
