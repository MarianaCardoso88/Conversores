{
 "cells": [
  {
   "cell_type": "code",
   "execution_count": 4,
   "id": "a20d763d",
   "metadata": {},
   "outputs": [
    {
     "name": "stdout",
     "output_type": "stream",
     "text": [
      "Quantidade de exames no arquivo: 8\n"
     ]
    }
   ],
   "source": [
    "import pandas as pd\n",
    "\n",
    "def conta_exames(file_path):\n",
    "    # Lendo o arquivo Excel\n",
    "    df = pd.read_excel(file_path)\n",
    "\n",
    "    # Acessando a primeira coluna\n",
    "    primeira_coluna = df.iloc[:, 0]\n",
    "\n",
    "    # Verificando quais elementos são inteiros no formato string\n",
    "    numeros_inteiros = primeira_coluna.apply(lambda x: x.isdigit() if isinstance(x, str) else False)\n",
    "\n",
    "    # Contando quantos são inteiros\n",
    "    return numeros_inteiros.sum()\n",
    "\n",
    "\n",
    "if __name__ == \"__main__\":\n",
    "    input_file_path = input(\"Digite o caminho da pasta de entrada: \")\n",
    "\n",
    "    print(f'Quantidade de exames no arquivo: {conta_exames(input_file_path)}')"
   ]
  }
 ],
 "metadata": {
  "kernelspec": {
   "display_name": "Python 3 (ipykernel)",
   "language": "python",
   "name": "python3"
  },
  "language_info": {
   "codemirror_mode": {
    "name": "ipython",
    "version": 3
   },
   "file_extension": ".py",
   "mimetype": "text/x-python",
   "name": "python",
   "nbconvert_exporter": "python",
   "pygments_lexer": "ipython3",
   "version": "3.12.4"
  }
 },
 "nbformat": 4,
 "nbformat_minor": 5
}
