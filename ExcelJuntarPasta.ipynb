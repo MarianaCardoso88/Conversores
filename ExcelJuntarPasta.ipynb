{
 "cells": [
  {
   "cell_type": "code",
   "execution_count": 1,
   "id": "9dd60a35",
   "metadata": {},
   "outputs": [],
   "source": [
    "import os\n",
    "import pandas as pd\n",
    "from glob import glob\n",
    "\n",
    "# Definir o caminho da pasta contendo as planilhas\n",
    "pasta_das_planilhas = 'TesteJuncao'\n",
    "\n",
    "# Listar os arquivos Excel na pasta\n",
    "arquivos_excel = glob(os.path.join(pasta_das_planilhas, '*.xlsx'))\n",
    "\n",
    "# Carregar e concatenar todas as planilhas\n",
    "planilhas = [pd.read_excel(arquivo) for arquivo in arquivos_excel]\n",
    "planilhas_concatenadas = pd.concat(planilhas, ignore_index=True)\n",
    "\n",
    "# Salvar a planilha concatenada em um novo arquivo Excel\n",
    "planilhas_concatenadas.to_excel('planilhas_juntadas.xlsx', index=False)"
   ]
  },
  {
   "cell_type": "code",
   "execution_count": null,
   "id": "aae68b42",
   "metadata": {},
   "outputs": [],
   "source": []
  }
 ],
 "metadata": {
  "kernelspec": {
   "display_name": "Python 3 (ipykernel)",
   "language": "python",
   "name": "python3"
  },
  "language_info": {
   "codemirror_mode": {
    "name": "ipython",
    "version": 3
   },
   "file_extension": ".py",
   "mimetype": "text/x-python",
   "name": "python",
   "nbconvert_exporter": "python",
   "pygments_lexer": "ipython3",
   "version": "3.9.13"
  }
 },
 "nbformat": 4,
 "nbformat_minor": 5
}
